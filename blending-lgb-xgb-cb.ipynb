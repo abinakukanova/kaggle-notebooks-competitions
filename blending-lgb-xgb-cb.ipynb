{
 "cells": [
  {
   "cell_type": "markdown",
   "metadata": {},
   "source": [
    "<a class=\"anchor\" id=\"chapter1\"></a>\n",
    "## Install Packages and Import Libraries"
   ]
  },
  {
   "cell_type": "code",
   "execution_count": null,
   "metadata": {
    "execution": {
     "iopub.execute_input": "2025-02-08T20:35:18.283281Z",
     "iopub.status.busy": "2025-02-08T20:35:18.282820Z",
     "iopub.status.idle": "2025-02-08T20:35:26.678790Z",
     "shell.execute_reply": "2025-02-08T20:35:26.677065Z",
     "shell.execute_reply.started": "2025-02-08T20:35:18.283249Z"
    },
    "trusted": true
   },
   "outputs": [],
   "source": [
    "import numpy as np # linear algebra\n",
    "import pandas as pd # data processing\n",
    "from sklearn.model_selection import train_test_split, KFold\n",
    "from sklearn.metrics import mean_squared_error\n",
    "from sklearn.pipeline import Pipeline\n",
    "from sklearn.compose import ColumnTransformer\n",
    "from sklearn.impute import SimpleImputer, KNNImputer\n",
    "from sklearn.preprocessing import (\n",
    "    OneHotEncoder,\n",
    "    OrdinalEncoder, \n",
    "    StandardScaler, \n",
    "    MinMaxScaler,\n",
    "    RobustScaler\n",
    ")\n",
    "import lightgbm as lgb\n",
    "import catboost as cb\n",
    "import xgboost as xgb\n",
    "import optuna\n",
    "\n",
    "# Data Visualization\n",
    "import matplotlib.pyplot as plt\n",
    "import seaborn as sns\n",
    "import plotly.express as px\n",
    "from plotly.subplots import make_subplots\n",
    "import plotly.graph_objects as go\n",
    "\n",
    "RANDOM_STATE = 42\n",
    "TEST_SIZE = 0.2\n",
    "\n",
    "import warnings\n",
    "warnings.filterwarnings(\"ignore\")"
   ]
  },
  {
   "cell_type": "markdown",
   "metadata": {},
   "source": [
    "<a class=\"anchor\" id=\"chapter2\"></a>\n",
    "## Data Loading & Description"
   ]
  },
  {
   "cell_type": "code",
   "execution_count": 2,
   "metadata": {
    "execution": {
     "iopub.execute_input": "2025-02-08T20:35:36.483630Z",
     "iopub.status.busy": "2025-02-08T20:35:36.482749Z",
     "iopub.status.idle": "2025-02-08T20:35:37.808427Z",
     "shell.execute_reply": "2025-02-08T20:35:37.807340Z",
     "shell.execute_reply.started": "2025-02-08T20:35:36.483593Z"
    },
    "trusted": true
   },
   "outputs": [],
   "source": [
    "try:\n",
    "    train_df = pd.read_csv('/kaggle/input/playground-series-s5e2/train.csv', index_col= 'id')\n",
    "    test_df = pd.read_csv('/kaggle/input/playground-series-s5e2/test.csv', index_col= 'id')\n",
    "    submission_df = pd.read_csv('/kaggle/input/playground-series-s5e2/sample_submission.csv')\n",
    "except:\n",
    "    train_df = pd.read_csv('train.csv', index_col= 'id')\n",
    "    test_df = pd.read_csv('test.csv', index_col= 'id')\n",
    "    submission_df = pd.read_csv('sample_submission.csv')"
   ]
  },
  {
   "cell_type": "code",
   "execution_count": 3,
   "metadata": {
    "execution": {
     "iopub.execute_input": "2025-02-08T20:35:42.431374Z",
     "iopub.status.busy": "2025-02-08T20:35:42.430816Z",
     "iopub.status.idle": "2025-02-08T20:35:42.819870Z",
     "shell.execute_reply": "2025-02-08T20:35:42.818223Z",
     "shell.execute_reply.started": "2025-02-08T20:35:42.431328Z"
    },
    "trusted": true
   },
   "outputs": [
    {
     "data": {
      "text/html": [
       "<div>\n",
       "<style scoped>\n",
       "    .dataframe tbody tr th:only-of-type {\n",
       "        vertical-align: middle;\n",
       "    }\n",
       "\n",
       "    .dataframe tbody tr th {\n",
       "        vertical-align: top;\n",
       "    }\n",
       "\n",
       "    .dataframe thead th {\n",
       "        text-align: right;\n",
       "    }\n",
       "</style>\n",
       "<table border=\"1\" class=\"dataframe\">\n",
       "  <thead>\n",
       "    <tr style=\"text-align: right;\">\n",
       "      <th></th>\n",
       "      <th>Brand</th>\n",
       "      <th>Material</th>\n",
       "      <th>Size</th>\n",
       "      <th>Compartments</th>\n",
       "      <th>Laptop Compartment</th>\n",
       "      <th>Waterproof</th>\n",
       "      <th>Style</th>\n",
       "      <th>Color</th>\n",
       "      <th>Weight Capacity (kg)</th>\n",
       "      <th>Price</th>\n",
       "    </tr>\n",
       "    <tr>\n",
       "      <th>id</th>\n",
       "      <th></th>\n",
       "      <th></th>\n",
       "      <th></th>\n",
       "      <th></th>\n",
       "      <th></th>\n",
       "      <th></th>\n",
       "      <th></th>\n",
       "      <th></th>\n",
       "      <th></th>\n",
       "      <th></th>\n",
       "    </tr>\n",
       "  </thead>\n",
       "  <tbody>\n",
       "    <tr>\n",
       "      <th>0</th>\n",
       "      <td>Jansport</td>\n",
       "      <td>Leather</td>\n",
       "      <td>Medium</td>\n",
       "      <td>7.0</td>\n",
       "      <td>Yes</td>\n",
       "      <td>No</td>\n",
       "      <td>Tote</td>\n",
       "      <td>Black</td>\n",
       "      <td>11.611723</td>\n",
       "      <td>112.15875</td>\n",
       "    </tr>\n",
       "    <tr>\n",
       "      <th>1</th>\n",
       "      <td>Jansport</td>\n",
       "      <td>Canvas</td>\n",
       "      <td>Small</td>\n",
       "      <td>10.0</td>\n",
       "      <td>Yes</td>\n",
       "      <td>Yes</td>\n",
       "      <td>Messenger</td>\n",
       "      <td>Green</td>\n",
       "      <td>27.078537</td>\n",
       "      <td>68.88056</td>\n",
       "    </tr>\n",
       "    <tr>\n",
       "      <th>2</th>\n",
       "      <td>Under Armour</td>\n",
       "      <td>Leather</td>\n",
       "      <td>Small</td>\n",
       "      <td>2.0</td>\n",
       "      <td>Yes</td>\n",
       "      <td>No</td>\n",
       "      <td>Messenger</td>\n",
       "      <td>Red</td>\n",
       "      <td>16.643760</td>\n",
       "      <td>39.17320</td>\n",
       "    </tr>\n",
       "    <tr>\n",
       "      <th>3</th>\n",
       "      <td>Nike</td>\n",
       "      <td>Nylon</td>\n",
       "      <td>Small</td>\n",
       "      <td>8.0</td>\n",
       "      <td>Yes</td>\n",
       "      <td>No</td>\n",
       "      <td>Messenger</td>\n",
       "      <td>Green</td>\n",
       "      <td>12.937220</td>\n",
       "      <td>80.60793</td>\n",
       "    </tr>\n",
       "    <tr>\n",
       "      <th>4</th>\n",
       "      <td>Adidas</td>\n",
       "      <td>Canvas</td>\n",
       "      <td>Medium</td>\n",
       "      <td>1.0</td>\n",
       "      <td>Yes</td>\n",
       "      <td>Yes</td>\n",
       "      <td>Messenger</td>\n",
       "      <td>Green</td>\n",
       "      <td>17.749338</td>\n",
       "      <td>86.02312</td>\n",
       "    </tr>\n",
       "  </tbody>\n",
       "</table>\n",
       "</div>"
      ],
      "text/plain": [
       "           Brand Material    Size  Compartments Laptop Compartment Waterproof  \\\n",
       "id                                                                              \n",
       "0       Jansport  Leather  Medium           7.0                Yes         No   \n",
       "1       Jansport   Canvas   Small          10.0                Yes        Yes   \n",
       "2   Under Armour  Leather   Small           2.0                Yes         No   \n",
       "3           Nike    Nylon   Small           8.0                Yes         No   \n",
       "4         Adidas   Canvas  Medium           1.0                Yes        Yes   \n",
       "\n",
       "        Style  Color  Weight Capacity (kg)      Price  \n",
       "id                                                     \n",
       "0        Tote  Black             11.611723  112.15875  \n",
       "1   Messenger  Green             27.078537   68.88056  \n",
       "2   Messenger    Red             16.643760   39.17320  \n",
       "3   Messenger  Green             12.937220   80.60793  \n",
       "4   Messenger  Green             17.749338   86.02312  "
      ]
     },
     "metadata": {},
     "output_type": "display_data"
    },
    {
     "name": "stdout",
     "output_type": "stream",
     "text": [
      "\n",
      "DataFrame shape: (300000, 10)\n",
      "\n",
      "300,000 rows\n",
      "\n",
      "10 columns\n",
      "\n",
      "Missing Data: \n",
      "Brand                   9705\n",
      "Material                8347\n",
      "Size                    6595\n",
      "Compartments               0\n",
      "Laptop Compartment      7444\n",
      "Waterproof              7050\n",
      "Style                   7970\n",
      "Color                   9950\n",
      "Weight Capacity (kg)     138\n",
      "Price                      0\n",
      "dtype: int64\n",
      "\n",
      "Duplicates: 0\n",
      "\n",
      "Data Types: \n",
      "Brand                    object\n",
      "Material                 object\n",
      "Size                     object\n",
      "Compartments            float64\n",
      "Laptop Compartment       object\n",
      "Waterproof               object\n",
      "Style                    object\n",
      "Color                    object\n",
      "Weight Capacity (kg)    float64\n",
      "Price                   float64\n",
      "dtype: object\n"
     ]
    }
   ],
   "source": [
    "def get_info(df):\n",
    "    print(f\"\\n{type(df).__name__} shape: {df.shape}\")\n",
    "    print(f\"\\n{df.shape[0]:,.0f} rows\")\n",
    "    print(f\"\\n{df.shape[1]:,.0f} columns\")\n",
    "    print(f'\\nMissing Data: \\n{df.isnull().sum()}')\n",
    "    print(f'\\nDuplicates: {df.duplicated().sum()}')\n",
    "    print(f'\\nData Types: \\n{df.dtypes}')\n",
    "\n",
    "\n",
    "display(train_df.head(5))\n",
    "get_info(train_df)"
   ]
  },
  {
   "cell_type": "code",
   "execution_count": 4,
   "metadata": {
    "execution": {
     "iopub.execute_input": "2025-02-08T20:35:48.265951Z",
     "iopub.status.busy": "2025-02-08T20:35:48.265454Z",
     "iopub.status.idle": "2025-02-08T20:35:48.959540Z",
     "shell.execute_reply": "2025-02-08T20:35:48.958257Z",
     "shell.execute_reply.started": "2025-02-08T20:35:48.265920Z"
    },
    "trusted": true
   },
   "outputs": [],
   "source": [
    "# Define features and target\n",
    "numerical_features = ['compartments', 'weight_capacity']\n",
    "\n",
    "categorical_features = ['brand', 'material', 'size', 'laptop_compartment',\n",
    "                         'waterproof', 'style', 'color']\n",
    "\n",
    "target_column = 'price'\n",
    "\n",
    "def prepare_dataset(df):\n",
    "    df = df.rename(\n",
    "        columns={\n",
    "            \"Laptop Compartment\": \"laptop_compartment\",\n",
    "            \"Weight Capacity (kg)\": \"weight_capacity\",})\n",
    "    df.columns = df.columns.str.lower()\n",
    "    df[categorical_features] = df[categorical_features].fillna('Missing').astype('category')\n",
    "    return df\n",
    "\n",
    "train_df = prepare_dataset(train_df)\n",
    "test_df = prepare_dataset(test_df)"
   ]
  },
  {
   "cell_type": "markdown",
   "metadata": {},
   "source": [
    "## Split Data & Build Pipeline"
   ]
  },
  {
   "cell_type": "code",
   "execution_count": 5,
   "metadata": {
    "execution": {
     "iopub.execute_input": "2025-02-08T20:35:58.048724Z",
     "iopub.status.busy": "2025-02-08T20:35:58.048337Z",
     "iopub.status.idle": "2025-02-08T20:35:58.104088Z",
     "shell.execute_reply": "2025-02-08T20:35:58.102673Z",
     "shell.execute_reply.started": "2025-02-08T20:35:58.048692Z"
    },
    "trusted": true
   },
   "outputs": [
    {
     "name": "stdout",
     "output_type": "stream",
     "text": [
      "(240000, 9) (60000, 9)\n"
     ]
    }
   ],
   "source": [
    "train_copy = train_df.copy()\n",
    "test_copy = test_df.copy()\n",
    "\n",
    "X = train_df.drop(columns=[target_column])\n",
    "y = train_df[target_column]\n",
    "\n",
    "X_train, X_val, y_train, y_val = train_test_split(\n",
    "    X,\n",
    "    y,\n",
    "    test_size = TEST_SIZE, \n",
    "    random_state = RANDOM_STATE)\n",
    "\n",
    "print(X_train.shape, X_val.shape)"
   ]
  },
  {
   "cell_type": "code",
   "execution_count": 9,
   "metadata": {
    "execution": {
     "iopub.execute_input": "2025-02-08T16:21:30.990716Z",
     "iopub.status.busy": "2025-02-08T16:21:30.990267Z",
     "iopub.status.idle": "2025-02-08T16:25:05.148940Z",
     "shell.execute_reply": "2025-02-08T16:25:05.145715Z",
     "shell.execute_reply.started": "2025-02-08T16:21:30.990685Z"
    },
    "trusted": true
   },
   "outputs": [
    {
     "name": "stderr",
     "output_type": "stream",
     "text": [
      "[I 2025-02-08 16:21:30,994] A new study created in memory with name: LGBM_Kaggle\n"
     ]
    },
    {
     "data": {
      "application/vnd.jupyter.widget-view+json": {
       "model_id": "aa2b78502d9e43bfb05da5fc80627fa7",
       "version_major": 2,
       "version_minor": 0
      },
      "text/plain": [
       "  0%|          | 0/30 [00:00<?, ?it/s]"
      ]
     },
     "metadata": {},
     "output_type": "display_data"
    },
    {
     "name": "stdout",
     "output_type": "stream",
     "text": [
      "Best parameters: {'n_estimators': 596, 'learning_rate': 0.028636022166460558, 'num_leaves': 101, 'max_depth': 3}\n",
      "Best RMSE: 38.89825169899989\n"
     ]
    }
   ],
   "source": [
    "#Load the train and validation data into the LightGBM dataset object\n",
    "lgb_train = lgb.Dataset(X_train, y_train)\n",
    "lgb_eval = lgb.Dataset(X_val, y_val, reference=lgb_train)\n",
    "\n",
    "def lgb_objective(trial):\n",
    "    params = {\n",
    "        'objective': 'regression',\n",
    "        'metric': 'rmse',\n",
    "        'n_estimators': trial.suggest_int('n_estimators', 100, 1000),\n",
    "        'boosting_type': \"gbdt\",\n",
    "        'learning_rate': trial.suggest_float('learning_rate', 0.001, 0.1, log=True),\n",
    "        'num_leaves': trial.suggest_int('num_leaves', 20, 300),\n",
    "        'max_depth': trial.suggest_int('max_depth', -1, 20),  \n",
    "        \"verbosity\": -1,\n",
    "        'random_state': RANDOM_STATE\n",
    "    }\n",
    "    # Train LightGBM model\n",
    "    model = lgb.train(\n",
    "        params,\n",
    "        lgb_train,\n",
    "        valid_sets=[lgb_eval],\n",
    "    )\n",
    "\n",
    "    # Predict on validation set\n",
    "    y_val_pred = model.predict(X_val)\n",
    "    \n",
    "    rmse = mean_squared_error(y_val, y_val_pred, squared=False)\n",
    "    return rmse\n",
    "\n",
    "\n",
    "lgb_study = optuna.create_study(study_name=\"LGBM_Kaggle\", direction='minimize')\n",
    "optuna.logging.set_verbosity(optuna.logging.WARNING)\n",
    "lgb_study.optimize(lgb_objective, n_trials=30, show_progress_bar=True)\n",
    "\n",
    "# Best parameters and RMSE\n",
    "print(\"Best parameters:\", lgb_study.best_params)\n",
    "print(\"Best RMSE:\", lgb_study.best_value)"
   ]
  },
  {
   "cell_type": "code",
   "execution_count": 10,
   "metadata": {
    "execution": {
     "iopub.execute_input": "2025-02-08T16:25:08.446719Z",
     "iopub.status.busy": "2025-02-08T16:25:08.446317Z",
     "iopub.status.idle": "2025-02-08T16:27:17.281163Z",
     "shell.execute_reply": "2025-02-08T16:27:17.279922Z",
     "shell.execute_reply.started": "2025-02-08T16:25:08.446691Z"
    },
    "trusted": true
   },
   "outputs": [
    {
     "data": {
      "application/vnd.jupyter.widget-view+json": {
       "model_id": "45046168a8ec443b8e076a87b949a4a8",
       "version_major": 2,
       "version_minor": 0
      },
      "text/plain": [
       "  0%|          | 0/30 [00:00<?, ?it/s]"
      ]
     },
     "metadata": {},
     "output_type": "display_data"
    },
    {
     "name": "stdout",
     "output_type": "stream",
     "text": [
      "Best parameters: {'n_estimators': 171, 'learning_rate': 0.08406160599410098, 'depth': 4, 'subsample': 0.6306540418843685, 'colsample_bylevel': 0.44623630424509697, 'min_data_in_leaf': 24}\n",
      "Best RMSE: 38.907112539651294\n"
     ]
    }
   ],
   "source": [
    "def cb_objective(trial):\n",
    "    cat_params = {\n",
    "        \"n_estimators\": trial.suggest_int('n_estimators', 100, 200),\n",
    "        \"learning_rate\": trial.suggest_float(\"learning_rate\", 1e-3, 0.1, log=True),\n",
    "        \"depth\": trial.suggest_int(\"depth\", 1, 10),\n",
    "        \"subsample\": trial.suggest_float(\"subsample\", 0.05, 1.0),\n",
    "        \"colsample_bylevel\": trial.suggest_float(\"colsample_bylevel\", 0.05, 1.0),\n",
    "        \"min_data_in_leaf\": trial.suggest_int(\"min_data_in_leaf\", 1, 100),\n",
    "    }\n",
    "\n",
    "    model = cb.CatBoostRegressor(**cat_params, silent=True, cat_features=categorical_features)\n",
    "    model.fit(X_train, y_train)\n",
    "    predictions = model.predict(X_val)\n",
    "    rmse =mean_squared_error(y_val, predictions, squared=False)\n",
    "    return rmse\n",
    "\n",
    "cb_study = optuna.create_study(study_name=\"CatBoost_Kaggle\", direction='minimize')\n",
    "optuna.logging.set_verbosity(optuna.logging.WARNING)\n",
    "cb_study.optimize(cb_objective, n_trials=30, show_progress_bar=True)\n",
    "\n",
    "# Best parameters and RMSE\n",
    "print(\"Best parameters:\", cb_study.best_params)\n",
    "print(\"Best RMSE:\", cb_study.best_value)"
   ]
  },
  {
   "cell_type": "code",
   "execution_count": 11,
   "metadata": {
    "execution": {
     "iopub.execute_input": "2025-02-08T16:27:23.820507Z",
     "iopub.status.busy": "2025-02-08T16:27:23.820068Z",
     "iopub.status.idle": "2025-02-08T16:29:18.527410Z",
     "shell.execute_reply": "2025-02-08T16:29:18.525727Z",
     "shell.execute_reply.started": "2025-02-08T16:27:23.820475Z"
    },
    "trusted": true
   },
   "outputs": [
    {
     "data": {
      "application/vnd.jupyter.widget-view+json": {
       "model_id": "52da8282abed494dbe561d23de54f24c",
       "version_major": 2,
       "version_minor": 0
      },
      "text/plain": [
       "  0%|          | 0/30 [00:00<?, ?it/s]"
      ]
     },
     "metadata": {},
     "output_type": "display_data"
    },
    {
     "name": "stdout",
     "output_type": "stream",
     "text": [
      "Best parameters: {'n_estimators': 183, 'learning_rate': 0.07647201108700992, 'max_depth': 5, 'subsample': 0.7711141818334715, 'colsample_bytree': 0.30804671866341454, 'min_child_weight': 3}\n",
      "Best RMSE: 38.893023798717\n"
     ]
    }
   ],
   "source": [
    "def xgb_objective(trial):\n",
    "    xgb_params = {\n",
    "        \"objective\": \"reg:squarederror\",\n",
    "        \"n_estimators\": trial.suggest_int('n_estimators', 100, 200),\n",
    "        \"verbosity\": 0,\n",
    "        \"learning_rate\": trial.suggest_float(\"learning_rate\", 1e-3, 0.1, log=True),\n",
    "        \"max_depth\": trial.suggest_int(\"max_depth\", 1, 10),\n",
    "        \"subsample\": trial.suggest_float(\"subsample\", 0.05, 1.0),\n",
    "        \"colsample_bytree\": trial.suggest_float(\"colsample_bytree\", 0.05, 1.0),\n",
    "        \"min_child_weight\": trial.suggest_int(\"min_child_weight\", 1, 20),\n",
    "    }\n",
    "\n",
    "    model = xgb.XGBRegressor(**xgb_params, enable_categorical=True)\n",
    "    model.fit(X_train, y_train, verbose=False)\n",
    "    predictions = model.predict(X_val)\n",
    "    rmse = mean_squared_error(y_val, predictions, squared=False)\n",
    "    return rmse\n",
    "\n",
    "xgb_study = optuna.create_study(study_name=\"CatBoost_Kaggle\", direction='minimize')\n",
    "optuna.logging.set_verbosity(optuna.logging.WARNING)\n",
    "xgb_study.optimize(xgb_objective, n_trials=30, show_progress_bar=True)\n",
    "\n",
    "# Best parameters and RMSE\n",
    "print(\"Best parameters:\", xgb_study.best_params)\n",
    "print(\"Best RMSE:\", xgb_study.best_value)"
   ]
  },
  {
   "cell_type": "code",
   "execution_count": 12,
   "metadata": {
    "execution": {
     "iopub.execute_input": "2025-02-08T16:29:31.955814Z",
     "iopub.status.busy": "2025-02-08T16:29:31.955466Z",
     "iopub.status.idle": "2025-02-08T16:29:31.960831Z",
     "shell.execute_reply": "2025-02-08T16:29:31.959722Z",
     "shell.execute_reply.started": "2025-02-08T16:29:31.955788Z"
    },
    "trusted": true
   },
   "outputs": [],
   "source": [
    "print(lgb_study.best_params)\n",
    "print(cb_study.best_params)\n",
    "print(xgb_study.best_params)"
   ]
  },
  {
   "cell_type": "code",
   "execution_count": 27,
   "metadata": {
    "execution": {
     "iopub.execute_input": "2025-02-08T20:54:46.425006Z",
     "iopub.status.busy": "2025-02-08T20:54:46.424675Z",
     "iopub.status.idle": "2025-02-08T20:54:46.432179Z",
     "shell.execute_reply": "2025-02-08T20:54:46.430344Z",
     "shell.execute_reply.started": "2025-02-08T20:54:46.424981Z"
    },
    "trusted": true
   },
   "outputs": [],
   "source": [
    "lgb_params = {\n",
    "    'objective': 'regression',\n",
    "    'metric': 'rmse',\n",
    "    'n_estimators': 596,\n",
    "    'learning_rate': 0.028636022166460558,\n",
    "    'num_leaves': 101,\n",
    "    'max_depth': 3,\n",
    "    \"verbosity\": -1\n",
    "}\n",
    "\n",
    "cat_params = {\n",
    "    'n_estimators': 171,\n",
    "     'learning_rate': 0.08406160599410098,\n",
    "     'depth': 4,\n",
    "     'subsample': 0.6306540418843685,\n",
    "     'colsample_bylevel': 0.44623630424509697,\n",
    "     'min_data_in_leaf': 24,\n",
    "    'loss_function': 'RMSE',\n",
    "    'random_seed': 42\n",
    "}\n",
    "\n",
    "xgb_params = {\n",
    "    'objective': 'reg:squarederror',\n",
    "    'eval_metric': 'rmse',\n",
    "    'n_estimators': 183,\n",
    "     'learning_rate': 0.07647201108700992,\n",
    "     'max_depth': 5,\n",
    "     'subsample': 0.7711141818334715,\n",
    "     'colsample_bytree': 0.30804671866341454,\n",
    "     'min_child_weight': 3,\n",
    "    'seed': 42\n",
    "}"
   ]
  },
  {
   "cell_type": "code",
   "execution_count": null,
   "metadata": {
    "trusted": true
   },
   "outputs": [],
   "source": [
    "n_folds = 5\n",
    "kf = KFold(n_splits=n_folds, shuffle=True, random_state=42)\n",
    "\n",
    "oof_lgb = np.zeros(len(X))\n",
    "oof_xgb = np.zeros(len(X))\n",
    "oof_catboost = np.zeros(len(X))\n",
    "\n",
    "for fold, (train_idx, val_idx) in enumerate(kf.split(X, y)):\n",
    "    print(f\"Fold {fold + 1}/{n_folds}\")\n",
    "    X_train, X_val = X.iloc[train_idx], X.iloc[val_idx]\n",
    "    y_train, y_val = y.iloc[train_idx], y.iloc[val_idx]\n",
    "\n",
    "    # LightGBM\n",
    "    lgb_model = lgb.LGBMRegressor(**lgb_params)\n",
    "    lgb_model.fit(X_train, y_train, eval_set=[(X_val, y_val)])\n",
    "    oof_lgb[val_idx] = lgb_model.predict(X_val)\n",
    "\n",
    "    # XGBoost\n",
    "    xgb_model = xgb.XGBRegressor(**xgb_params, enable_categorical=True)\n",
    "    xgb_model.fit(X_train, y_train, eval_set=[(X_val, y_val)])\n",
    "    oof_xgb[val_idx] = xgb_model.predict(X_val)\n",
    "\n",
    "    # CatBoost\n",
    "    cat_model = cb.CatBoostRegressor(**cat_params)\n",
    "    cat_model.fit(X_train, y_train, eval_set=(X_val, y_val), verbose=False, cat_features=categorical_features)\n",
    "    oof_catboost[val_idx] = cat_model.predict(X_val)\n",
    "\n",
    "\n",
    "meta_features = np.column_stack([oof_lgb, oof_xgb, oof_catboost])"
   ]
  },
  {
   "cell_type": "code",
   "execution_count": 41,
   "metadata": {
    "execution": {
     "iopub.execute_input": "2025-02-08T21:58:00.924150Z",
     "iopub.status.busy": "2025-02-08T21:58:00.923573Z",
     "iopub.status.idle": "2025-02-08T21:58:00.932526Z",
     "shell.execute_reply": "2025-02-08T21:58:00.931318Z",
     "shell.execute_reply.started": "2025-02-08T21:58:00.924113Z"
    },
    "trusted": true
   },
   "outputs": [],
   "source": [
    "train_copy['price'] = pd.DataFrame(meta_features)[2]"
   ]
  },
  {
   "cell_type": "code",
   "execution_count": 38,
   "metadata": {
    "execution": {
     "iopub.execute_input": "2025-02-08T17:12:02.237566Z",
     "iopub.status.busy": "2025-02-08T17:12:02.237174Z",
     "iopub.status.idle": "2025-02-08T17:12:06.397443Z",
     "shell.execute_reply": "2025-02-08T17:12:06.396524Z",
     "shell.execute_reply.started": "2025-02-08T17:12:02.237532Z"
    },
    "trusted": true
   },
   "outputs": [],
   "source": [
    "from sklearn.linear_model import LinearRegression\n",
    "\n",
    "# Обучение финальной модели (линейная регрессия)\n",
    "blender = LinearRegression()\n",
    "blender.fit(meta_features, y)\n",
    "\n",
    "# Предсказания моделей на тестовых данных\n",
    "test_lgb = lgb_model.predict(test_df)\n",
    "test_xgb = xgb_model.predict(test_df)\n",
    "test_catboost = cat_model.predict(test_df)\n",
    "\n",
    "# Мета-признаки для тестовых данных\n",
    "test_meta_features = np.column_stack([test_lgb, test_xgb, test_catboost])\n",
    "\n",
    "# Предсказания блендера\n",
    "final_predictions = blender.predict(test_meta_features)"
   ]
  },
  {
   "cell_type": "code",
   "execution_count": 43,
   "metadata": {
    "execution": {
     "iopub.execute_input": "2025-02-08T17:14:15.109163Z",
     "iopub.status.busy": "2025-02-08T17:14:15.108799Z",
     "iopub.status.idle": "2025-02-08T17:14:15.508819Z",
     "shell.execute_reply": "2025-02-08T17:14:15.507938Z",
     "shell.execute_reply.started": "2025-02-08T17:14:15.109132Z"
    },
    "trusted": true
   },
   "outputs": [],
   "source": [
    "pd.DataFrame({'id': submission_df['id'], 'Price': final_predictions}).to_csv(\"submission.csv\", index=False)"
   ]
  }
 ],
 "metadata": {
  "kaggle": {
   "accelerator": "none",
   "dataSources": [
    {
     "databundleVersionId": 10995111,
     "sourceId": 90274,
     "sourceType": "competition"
    }
   ],
   "dockerImageVersionId": 30886,
   "isGpuEnabled": false,
   "isInternetEnabled": true,
   "language": "python",
   "sourceType": "notebook"
  },
  "kernelspec": {
   "display_name": "Python 3",
   "language": "python",
   "name": "python3"
  },
  "language_info": {
   "codemirror_mode": {
    "name": "ipython",
    "version": 3
   },
   "file_extension": ".py",
   "mimetype": "text/x-python",
   "name": "python",
   "nbconvert_exporter": "python",
   "pygments_lexer": "ipython3",
   "version": "3.11.9"
  }
 },
 "nbformat": 4,
 "nbformat_minor": 4
}
